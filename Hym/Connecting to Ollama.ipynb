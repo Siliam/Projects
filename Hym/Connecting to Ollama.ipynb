{
 "cells": [
  {
   "cell_type": "code",
   "execution_count": 1,
   "id": "4f7c1377-2838-449e-aa8e-860e20a5aadf",
   "metadata": {},
   "outputs": [
    {
     "name": "stdout",
     "output_type": "stream",
     "text": [
      "Requirement already satisfied: langchain in /home/ismail/envs/hym/lib/python3.10/site-packages (0.1.0)\n",
      "Requirement already satisfied: requests<3,>=2 in /home/ismail/envs/hym/lib/python3.10/site-packages (from langchain) (2.31.0)\n",
      "Requirement already satisfied: aiohttp<4.0.0,>=3.8.3 in /home/ismail/envs/hym/lib/python3.10/site-packages (from langchain) (3.9.1)\n",
      "Requirement already satisfied: jsonpatch<2.0,>=1.33 in /home/ismail/envs/hym/lib/python3.10/site-packages (from langchain) (1.33)\n",
      "Requirement already satisfied: SQLAlchemy<3,>=1.4 in /home/ismail/envs/hym/lib/python3.10/site-packages (from langchain) (2.0.25)\n",
      "Requirement already satisfied: dataclasses-json<0.7,>=0.5.7 in /home/ismail/envs/hym/lib/python3.10/site-packages (from langchain) (0.6.3)\n",
      "Requirement already satisfied: langchain-community<0.1,>=0.0.9 in /home/ismail/envs/hym/lib/python3.10/site-packages (from langchain) (0.0.11)\n",
      "Requirement already satisfied: async-timeout<5.0.0,>=4.0.0 in /home/ismail/envs/hym/lib/python3.10/site-packages (from langchain) (4.0.3)\n",
      "Requirement already satisfied: PyYAML>=5.3 in /home/ismail/envs/hym/lib/python3.10/site-packages (from langchain) (6.0.1)\n",
      "Requirement already satisfied: langchain-core<0.2,>=0.1.7 in /home/ismail/envs/hym/lib/python3.10/site-packages (from langchain) (0.1.9)\n",
      "Requirement already satisfied: langsmith<0.1.0,>=0.0.77 in /home/ismail/envs/hym/lib/python3.10/site-packages (from langchain) (0.0.79)\n",
      "Requirement already satisfied: tenacity<9.0.0,>=8.1.0 in /home/ismail/envs/hym/lib/python3.10/site-packages (from langchain) (8.2.3)\n",
      "Requirement already satisfied: pydantic<3,>=1 in /home/ismail/envs/hym/lib/python3.10/site-packages (from langchain) (2.5.3)\n",
      "Requirement already satisfied: numpy<2,>=1 in /home/ismail/envs/hym/lib/python3.10/site-packages (from langchain) (1.26.3)\n",
      "Requirement already satisfied: aiosignal>=1.1.2 in /home/ismail/envs/hym/lib/python3.10/site-packages (from aiohttp<4.0.0,>=3.8.3->langchain) (1.3.1)\n",
      "Requirement already satisfied: yarl<2.0,>=1.0 in /home/ismail/envs/hym/lib/python3.10/site-packages (from aiohttp<4.0.0,>=3.8.3->langchain) (1.9.4)\n",
      "Requirement already satisfied: multidict<7.0,>=4.5 in /home/ismail/envs/hym/lib/python3.10/site-packages (from aiohttp<4.0.0,>=3.8.3->langchain) (6.0.4)\n",
      "Requirement already satisfied: attrs>=17.3.0 in /home/ismail/envs/hym/lib/python3.10/site-packages (from aiohttp<4.0.0,>=3.8.3->langchain) (23.2.0)\n",
      "Requirement already satisfied: frozenlist>=1.1.1 in /home/ismail/envs/hym/lib/python3.10/site-packages (from aiohttp<4.0.0,>=3.8.3->langchain) (1.4.1)\n",
      "Requirement already satisfied: typing-inspect<1,>=0.4.0 in /home/ismail/envs/hym/lib/python3.10/site-packages (from dataclasses-json<0.7,>=0.5.7->langchain) (0.9.0)\n",
      "Requirement already satisfied: marshmallow<4.0.0,>=3.18.0 in /home/ismail/envs/hym/lib/python3.10/site-packages (from dataclasses-json<0.7,>=0.5.7->langchain) (3.20.2)\n",
      "Requirement already satisfied: jsonpointer>=1.9 in /home/ismail/envs/hym/lib/python3.10/site-packages (from jsonpatch<2.0,>=1.33->langchain) (2.4)\n",
      "Requirement already satisfied: anyio<5,>=3 in /home/ismail/envs/hym/lib/python3.10/site-packages (from langchain-core<0.2,>=0.1.7->langchain) (4.2.0)\n",
      "Requirement already satisfied: packaging<24.0,>=23.2 in /home/ismail/envs/hym/lib/python3.10/site-packages (from langchain-core<0.2,>=0.1.7->langchain) (23.2)\n",
      "Requirement already satisfied: pydantic-core==2.14.6 in /home/ismail/envs/hym/lib/python3.10/site-packages (from pydantic<3,>=1->langchain) (2.14.6)\n",
      "Requirement already satisfied: annotated-types>=0.4.0 in /home/ismail/envs/hym/lib/python3.10/site-packages (from pydantic<3,>=1->langchain) (0.6.0)\n",
      "Requirement already satisfied: typing-extensions>=4.6.1 in /home/ismail/envs/hym/lib/python3.10/site-packages (from pydantic<3,>=1->langchain) (4.9.0)\n",
      "Requirement already satisfied: certifi>=2017.4.17 in /home/ismail/envs/hym/lib/python3.10/site-packages (from requests<3,>=2->langchain) (2023.11.17)\n",
      "Requirement already satisfied: idna<4,>=2.5 in /home/ismail/envs/hym/lib/python3.10/site-packages (from requests<3,>=2->langchain) (3.6)\n",
      "Requirement already satisfied: charset-normalizer<4,>=2 in /home/ismail/envs/hym/lib/python3.10/site-packages (from requests<3,>=2->langchain) (3.3.2)\n",
      "Requirement already satisfied: urllib3<3,>=1.21.1 in /home/ismail/envs/hym/lib/python3.10/site-packages (from requests<3,>=2->langchain) (2.1.0)\n",
      "Requirement already satisfied: greenlet!=0.4.17 in /home/ismail/envs/hym/lib/python3.10/site-packages (from SQLAlchemy<3,>=1.4->langchain) (3.0.3)\n",
      "Requirement already satisfied: sniffio>=1.1 in /home/ismail/envs/hym/lib/python3.10/site-packages (from anyio<5,>=3->langchain-core<0.2,>=0.1.7->langchain) (1.3.0)\n",
      "Requirement already satisfied: exceptiongroup>=1.0.2 in /home/ismail/envs/hym/lib/python3.10/site-packages (from anyio<5,>=3->langchain-core<0.2,>=0.1.7->langchain) (1.2.0)\n",
      "Requirement already satisfied: mypy-extensions>=0.3.0 in /home/ismail/envs/hym/lib/python3.10/site-packages (from typing-inspect<1,>=0.4.0->dataclasses-json<0.7,>=0.5.7->langchain) (1.0.0)\n"
     ]
    }
   ],
   "source": [
    "! pip3 install langchain"
   ]
  },
  {
   "cell_type": "code",
   "execution_count": 2,
   "id": "d08c6a43-dccc-42d9-8adf-9f769feaf797",
   "metadata": {},
   "outputs": [],
   "source": [
    "from langchain.callbacks.manager import CallbackManager\n",
    "from langchain.callbacks.streaming_stdout import StreamingStdOutCallbackHandler\n",
    "from langchain_community.llms import Ollama\n",
    "\n",
    "llm = Ollama(\n",
    "    model=\"llama2\",\n",
    "    callback_manager=CallbackManager([StreamingStdOutCallbackHandler()]),\n",
    ")"
   ]
  },
  {
   "cell_type": "code",
   "execution_count": 3,
   "id": "d6a59557-8f87-4728-8090-3ed67ef6b5b9",
   "metadata": {},
   "outputs": [
    {
     "name": "stderr",
     "output_type": "stream",
     "text": [
      "/home/ismail/envs/hym/lib/python3.10/site-packages/langchain_core/_api/deprecation.py:117: LangChainDeprecationWarning: The function `__call__` was deprecated in LangChain 0.1.7 and will be removed in 0.2.0. Use invoke instead.\n",
      "  warn_deprecated(\n"
     ]
    },
    {
     "name": "stdout",
     "output_type": "stream",
     "text": [
      "\n",
      "Artificial intelligence (AI) has a rich and varied history that spans several decades. Here is a brief overview of some of the key milestones in the development of AI:\n",
      "\n",
      "1. 1950s: The Dartmouth Conference - The field of AI was formally established at a conference held at Dartmouth College in 1956. Attendees included computer scientists, mathematicians, and cognitive scientists who were interested in exploring the possibilities of creating machines that could simulate human intelligence.\n",
      "2. 1951: The Turing Test - British mathematician Alan Turing proposed a test to measure a machine's ability to exhibit intelligent behavior equivalent to, or indistinguishable from, that of a human. The Turing Test has since become a benchmark for measuring the success of AI systems.\n",
      "3. 1956: The First AI Program - Computer scientist John McCarthy created the first AI program, called the Logical Theorist, which was designed to reason and solve problems using logical deduction.\n",
      "4. 1960s: Rule-Based Expert Systems - The development of rule-based expert systems, which used a set of rules to reason and make decisions, marked a significant milestone in the history of AI. These systems were widely adopted in industries such as banking and healthcare.\n",
      "5. 1970s: Machine Learning - Machine learning, which enables machines to learn from data without being explicitly programmed, emerged as a major area of research in AI. This led to the development of algorithms such as decision trees and neural networks.\n",
      "6. 1980s: Expert Systems - The development of expert systems, which were designed to mimic the decision-making abilities of human experts, reached its peak during the 1980s. These systems were widely adopted in industries such as banking and healthcare.\n",
      "7. 1990s: AI Winter - Despite the progress that had been made in AI research, the field experienced a decline in funding and interest during the 1990s, which became known as the \"AI winter.\"\n",
      "8. 2000s: Resurgence of AI - The resurgence of AI began in the early 2000s with the development of deep learning algorithms, which were able to learn and improve on their own by analyzing large amounts of data. This led to significant advances in areas such as image and speech recognition.\n",
      "9. 2010s: Rise of AI in Industry - AI began to be adopted in a wide range of industries, including healthcare, finance, and transportation. The development of cloud computing and other infrastructure made it easier for organizations to implement and scale AI systems.\n",
      "10. Present Day: AI and Machine Learning - Today, AI is being used in applications such as natural language processing, robotics, and autonomous vehicles. Machine learning, a subset of AI, is being used to develop predictive models, recommendation systems, and other advanced technologies.\n",
      "\n",
      "Overall, the history of AI reflects a long-standing interest in creating machines that can simulate human intelligence. While the field has experienced periods of progress and setbacks, it continues to evolve and expand into new areas of research and application."
     ]
    },
    {
     "data": {
      "text/plain": [
       "'\\nArtificial intelligence (AI) has a rich and varied history that spans several decades. Here is a brief overview of some of the key milestones in the development of AI:\\n\\n1. 1950s: The Dartmouth Conference - The field of AI was formally established at a conference held at Dartmouth College in 1956. Attendees included computer scientists, mathematicians, and cognitive scientists who were interested in exploring the possibilities of creating machines that could simulate human intelligence.\\n2. 1951: The Turing Test - British mathematician Alan Turing proposed a test to measure a machine\\'s ability to exhibit intelligent behavior equivalent to, or indistinguishable from, that of a human. The Turing Test has since become a benchmark for measuring the success of AI systems.\\n3. 1956: The First AI Program - Computer scientist John McCarthy created the first AI program, called the Logical Theorist, which was designed to reason and solve problems using logical deduction.\\n4. 1960s: Rule-Based Expert Systems - The development of rule-based expert systems, which used a set of rules to reason and make decisions, marked a significant milestone in the history of AI. These systems were widely adopted in industries such as banking and healthcare.\\n5. 1970s: Machine Learning - Machine learning, which enables machines to learn from data without being explicitly programmed, emerged as a major area of research in AI. This led to the development of algorithms such as decision trees and neural networks.\\n6. 1980s: Expert Systems - The development of expert systems, which were designed to mimic the decision-making abilities of human experts, reached its peak during the 1980s. These systems were widely adopted in industries such as banking and healthcare.\\n7. 1990s: AI Winter - Despite the progress that had been made in AI research, the field experienced a decline in funding and interest during the 1990s, which became known as the \"AI winter.\"\\n8. 2000s: Resurgence of AI - The resurgence of AI began in the early 2000s with the development of deep learning algorithms, which were able to learn and improve on their own by analyzing large amounts of data. This led to significant advances in areas such as image and speech recognition.\\n9. 2010s: Rise of AI in Industry - AI began to be adopted in a wide range of industries, including healthcare, finance, and transportation. The development of cloud computing and other infrastructure made it easier for organizations to implement and scale AI systems.\\n10. Present Day: AI and Machine Learning - Today, AI is being used in applications such as natural language processing, robotics, and autonomous vehicles. Machine learning, a subset of AI, is being used to develop predictive models, recommendation systems, and other advanced technologies.\\n\\nOverall, the history of AI reflects a long-standing interest in creating machines that can simulate human intelligence. While the field has experienced periods of progress and setbacks, it continues to evolve and expand into new areas of research and application.'"
      ]
     },
     "execution_count": 3,
     "metadata": {},
     "output_type": "execute_result"
    }
   ],
   "source": [
    "llm(\"Tell me about the history of AI\")"
   ]
  },
  {
   "cell_type": "code",
   "execution_count": 5,
   "id": "29e7da2c-53d0-4dd0-91c3-bc3e5509621c",
   "metadata": {},
   "outputs": [
    {
     "name": "stdout",
     "output_type": "stream",
     "text": [
      "\n",
      "I'm just an AI, I don't have emotions or feelings like humans do, so I can't experience emotions in the way that humans do. However, I'm here to help you with any questions or tasks you may have, so please feel free to ask me anything!"
     ]
    },
    {
     "data": {
      "text/plain": [
       "\"\\nI'm just an AI, I don't have emotions or feelings like humans do, so I can't experience emotions in the way that humans do. However, I'm here to help you with any questions or tasks you may have, so please feel free to ask me anything!\""
      ]
     },
     "execution_count": 5,
     "metadata": {},
     "output_type": "execute_result"
    }
   ],
   "source": [
    "llm(\"How are you feeling today?\")"
   ]
  },
  {
   "cell_type": "code",
   "execution_count": null,
   "id": "6c7375b8-0dfc-40de-9a01-5520daae86ff",
   "metadata": {},
   "outputs": [],
   "source": []
  }
 ],
 "metadata": {
  "kernelspec": {
   "display_name": "Python 3 (ipykernel)",
   "language": "python",
   "name": "python3"
  },
  "language_info": {
   "codemirror_mode": {
    "name": "ipython",
    "version": 3
   },
   "file_extension": ".py",
   "mimetype": "text/x-python",
   "name": "python",
   "nbconvert_exporter": "python",
   "pygments_lexer": "ipython3",
   "version": "3.10.12"
  }
 },
 "nbformat": 4,
 "nbformat_minor": 5
}
