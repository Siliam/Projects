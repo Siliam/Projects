{
 "cells": [
  {
   "cell_type": "code",
   "execution_count": 1,
   "id": "dd5e2e81-6598-444c-a2d8-512e3d2e88bf",
   "metadata": {},
   "outputs": [
    {
     "name": "stdout",
     "output_type": "stream",
     "text": [
      "pygame 2.5.2 (SDL 2.28.2, Python 3.10.12)\n",
      "Hello from the pygame community. https://www.pygame.org/contribute.html\n"
     ]
    }
   ],
   "source": [
    "import torch\n",
    "import numpy as np\n",
    "import gradio as gr\n",
    "import IPython\n",
    "\n",
    "from TTS.api import TTS\n",
    "from pprint import pprint\n",
    "from IPython.display import Audio\n",
    "from langchain_community.llms import Ollama\n",
    "from optimum.bettertransformer import BetterTransformer\n",
    "from langchain.callbacks.manager import CallbackManager\n",
    "from transformers import AutoModelForSpeechSeq2Seq, AutoProcessor, pipeline\n",
    "from langchain.callbacks.streaming_stdout import StreamingStdOutCallbackHandler\n",
    "from langchain.callbacks.base import BaseCallbackHandler\n",
    "import pygame"
   ]
  },
  {
   "cell_type": "code",
   "execution_count": 2,
   "id": "5207d824-1005-4a8a-8e13-e5c265368922",
   "metadata": {},
   "outputs": [],
   "source": [
    "pygame.mixer.init()"
   ]
  },
  {
   "cell_type": "code",
   "execution_count": 3,
   "id": "5fb6a606-8020-4f33-b8aa-7a6a627ee919",
   "metadata": {},
   "outputs": [
    {
     "name": "stdout",
     "output_type": "stream",
     "text": [
      " > tts_models/en/vctk/vits is already downloaded.\n",
      " > Using model: vits\n",
      " > Setting up Audio Processor...\n",
      " | > sample_rate:22050\n",
      " | > resample:False\n",
      " | > num_mels:80\n",
      " | > log_func:np.log10\n",
      " | > min_level_db:0\n",
      " | > frame_shift_ms:None\n",
      " | > frame_length_ms:None\n",
      " | > ref_level_db:None\n",
      " | > fft_size:1024\n",
      " | > power:None\n",
      " | > preemphasis:0.0\n",
      " | > griffin_lim_iters:None\n",
      " | > signal_norm:None\n",
      " | > symmetric_norm:None\n",
      " | > mel_fmin:0\n",
      " | > mel_fmax:None\n",
      " | > pitch_fmin:None\n",
      " | > pitch_fmax:None\n",
      " | > spec_gain:20.0\n",
      " | > stft_pad_mode:reflect\n",
      " | > max_norm:1.0\n",
      " | > clip_norm:True\n",
      " | > do_trim_silence:False\n",
      " | > trim_db:60\n",
      " | > do_sound_norm:False\n",
      " | > do_amp_to_db_linear:True\n",
      " | > do_amp_to_db_mel:True\n",
      " | > do_rms_norm:False\n",
      " | > db_level:None\n",
      " | > stats_path:None\n",
      " | > base:10\n",
      " | > hop_length:256\n",
      " | > win_length:1024\n",
      " > initialization of speaker-embedding layers.\n"
     ]
    }
   ],
   "source": [
    "tts = TTS(\"tts_models/en/vctk/vits\").to('cuda')"
   ]
  },
  {
   "cell_type": "code",
   "execution_count": 4,
   "id": "eba19f6a-b94b-4e93-a93b-42474608867b",
   "metadata": {},
   "outputs": [],
   "source": [
    "class AudioPlaybackCallback(BaseCallbackHandler):\n",
    "    def __init__(self):\n",
    "        self.content = \"\"\n",
    "        \n",
    "    def on_llm_new_token(self, token: str, **kwargs):\n",
    "        self.content += token\n",
    "        if self.content.strip()[-1] in ['.', '?', '!', ':']:\n",
    "            wav = tts.tts(self.content, speaker=tts.speakers[2], verbose=False)\n",
    "            filename = \"soundbites/\"+ self.content[:12] + \".wav\"\n",
    "            tts.tts_to_file(text=self.content, speaker=tts.speakers[2], file_path=filename)\n",
    "            \n",
    "            if pygame.mixer.music.get_busy() == True:\n",
    "                pygame.mixer.music.queue(filename)\n",
    "            else:\n",
    "                pygame.mixer.music.load(filename)\n",
    "                pygame.mixer.music.play()\n",
    "            print(self.content)\n",
    "            self.content = \"\"\n",
    "\n",
    "handler = AudioPlaybackCallback()"
   ]
  },
  {
   "cell_type": "code",
   "execution_count": 5,
   "id": "cf3a2a8b-df37-4d97-91ce-9557d7636ab0",
   "metadata": {},
   "outputs": [],
   "source": [
    "llm = Ollama(\n",
    "    model=\"llama2\",\n",
    "    callbacks=[handler],\n",
    ")"
   ]
  },
  {
   "cell_type": "code",
   "execution_count": 6,
   "id": "3d3fbbab-addd-405e-bc26-4aff76ca4b6c",
   "metadata": {},
   "outputs": [
    {
     "name": "stderr",
     "output_type": "stream",
     "text": [
      "Special tokens have been added in the vocabulary, make sure the associated word embeddings are fine-tuned or trained.\n"
     ]
    }
   ],
   "source": [
    "whisper_model_id = \"distil-whisper/distil-medium.en\"\n",
    "\n",
    "whisper = AutoModelForSpeechSeq2Seq.from_pretrained(\n",
    "    whisper_model_id, torch_dtype=torch.float16, low_cpu_mem_usage=True, use_safetensors=True# , use_flash_attention_2=True\n",
    ")\n",
    "whisper.to(\"cuda\")\n",
    "# model = model.to_bettertransformer() # we are using optimum BetterTransformer since Flash Attention 2 isn't supported on Colab\n",
    "processor = AutoProcessor.from_pretrained(whisper_model_id)"
   ]
  },
  {
   "cell_type": "code",
   "execution_count": 7,
   "id": "92debb15-a279-4a7c-8a57-343e6f64e528",
   "metadata": {},
   "outputs": [],
   "source": [
    "asr_pipe = pipeline(\n",
    "    \"automatic-speech-recognition\",\n",
    "    model=whisper,\n",
    "    tokenizer=processor.tokenizer,\n",
    "    feature_extractor=processor.feature_extractor,\n",
    "    max_new_tokens=128,\n",
    "    chunk_length_s=15, #long form transcription\n",
    "    batch_size=16,\n",
    "    torch_dtype=torch.float16,\n",
    "    device='cuda',\n",
    ")"
   ]
  },
  {
   "cell_type": "code",
   "execution_count": 8,
   "id": "be73a781-c5c2-4007-8b71-0a1768ee86f7",
   "metadata": {},
   "outputs": [],
   "source": [
    "def transcribe_streaming(stream, new_chunk):\n",
    "    sr, y = new_chunk\n",
    "    y = y.astype(np.float32)\n",
    "    y /= np.max(np.abs(y))\n",
    "\n",
    "    if stream is not None:\n",
    "        stream = np.concatenate([stream, y])\n",
    "    else:\n",
    "        stream = y\n",
    "    return stream, pipe({\"sampling_rate\": sr, \"raw\": stream})[\"text\"]\n"
   ]
  },
  {
   "cell_type": "code",
   "execution_count": 13,
   "id": "aac0375e-c768-4b2c-8113-b6d30d69aa1a",
   "metadata": {},
   "outputs": [
    {
     "name": "stdout",
     "output_type": "stream",
     "text": [
      "Running on local URL:  http://127.0.0.1:7863\n",
      "\n",
      "To create a public link, set `share=True` in `launch()`.\n"
     ]
    },
    {
     "data": {
      "text/html": [
       "<div><iframe src=\"http://127.0.0.1:7863/\" width=\"100%\" height=\"500\" allow=\"autoplay; camera; microphone; clipboard-read; clipboard-write;\" frameborder=\"0\" allowfullscreen></iframe></div>"
      ],
      "text/plain": [
       "<IPython.core.display.HTML object>"
      ]
     },
     "metadata": {},
     "output_type": "display_data"
    },
    {
     "data": {
      "text/plain": []
     },
     "execution_count": 13,
     "metadata": {},
     "output_type": "execute_result"
    },
    {
     "name": "stderr",
     "output_type": "stream",
     "text": [
      "/home/ismail/envs/hym/lib/python3.10/site-packages/transformers/pipelines/base.py:1101: UserWarning: You seem to be using the pipelines sequentially on GPU. In order to maximize efficiency please use a dataset\n",
      "  warnings.warn(\n"
     ]
    },
    {
     "name": "stdout",
     "output_type": "stream",
     "text": [
      " > Text splitted to sentences.\n",
      "[\"The sky appears blue because of a phenomenon called Rayleigh scattering, which occurs when light travels through the Earth's atmosphere.\"]\n",
      " > Processing time: 0.1654205322265625\n",
      " > Real-time factor: 0.028266605204554426\n",
      " > Text splitted to sentences.\n",
      "[\"The sky appears blue because of a phenomenon called Rayleigh scattering, which occurs when light travels through the Earth's atmosphere.\"]\n",
      " > Processing time: 0.17553949356079102\n",
      " > Real-time factor: 0.030602829166788758\n",
      " The sky appears blue because of a phenomenon called Rayleigh scattering, which occurs when light travels through the Earth's atmosphere.\n",
      " > Text splitted to sentences.\n",
      "['Blue light has shorter wavelengths than other colors, so it scatters more easily and is visible from a greater distance.']\n",
      " > Processing time: 0.18590044975280762\n",
      " > Real-time factor: 0.03208441544340488\n",
      " > Text splitted to sentences.\n",
      "['Blue light has shorter wavelengths than other colors, so it scatters more easily and is visible from a greater distance.']\n",
      " > Processing time: 0.1731884479522705\n",
      " > Real-time factor: 0.031203468405572334\n",
      " Blue light has shorter wavelengths than other colors, so it scatters more easily and is visible from a greater distance.\n",
      " > Text splitted to sentences.\n",
      "['This is why the sky appears blue during the daytime, when the sunlight is scattered in all directions by the tiny molecules of gases in the atmosphere.']\n",
      " > Processing time: 0.19564175605773926\n",
      " > Real-time factor: 0.028176277047452392\n",
      " > Text splitted to sentences.\n",
      "['This is why the sky appears blue during the daytime, when the sunlight is scattered in all directions by the tiny molecules of gases in the atmosphere.']\n"
     ]
    },
    {
     "name": "stderr",
     "output_type": "stream",
     "text": [
      "WARNING:langchain_core.callbacks.manager:Error in AudioPlaybackCallback.on_llm_new_token callback: IndexError('string index out of range')\n",
      "WARNING:langchain_core.callbacks.manager:Error in AudioPlaybackCallback.on_llm_new_token callback: IndexError('string index out of range')\n"
     ]
    },
    {
     "name": "stdout",
     "output_type": "stream",
     "text": [
      " > Processing time: 0.17913603782653809\n",
      " > Real-time factor: 0.026016635275550405\n",
      " This is why the sky appears blue during the daytime, when the sunlight is scattered in all directions by the tiny molecules of gases in the atmosphere.\n",
      " > Text splitted to sentences.\n",
      "['The reason why the sky appears blue at sunrise and sunset is due to a different phenomenon called Mie scattering.']\n",
      " > Processing time: 0.1715083122253418\n",
      " > Real-time factor: 0.03282320410853342\n",
      " > Text splitted to sentences.\n",
      "['The reason why the sky appears blue at sunrise and sunset is due to a different phenomenon called Mie scattering.']\n",
      " > Processing time: 0.1668863296508789\n",
      " > Real-time factor: 0.0325903674436896\n",
      "\n",
      "\n",
      "The reason why the sky appears blue at sunrise and sunset is due to a different phenomenon called Mie scattering.\n",
      " > Text splitted to sentences.\n",
      "['This occurs when light travels through a layer of atmosphere that contains particles, such as dust or water droplets, that are larger than the wavelength of the light.']\n",
      " > Processing time: 0.18225383758544922\n",
      " > Real-time factor: 0.024994384508154763\n",
      " > Text splitted to sentences.\n",
      "['This occurs when light travels through a layer of atmosphere that contains particles, such as dust or water droplets, that are larger than the wavelength of the light.']\n",
      " > Processing time: 0.40105438232421875\n",
      " > Real-time factor: 0.058741956705342116\n",
      " This occurs when light travels through a layer of atmosphere that contains particles, such as dust or water droplets, that are larger than the wavelength of the light.\n",
      " > Text splitted to sentences.\n",
      "['In this case, the light scatters in all directions, but it appears more red and orange because these colors have longer wavelengths and are scattered less than blue and violet light.']\n",
      " > Processing time: 0.21297979354858398\n",
      " > Real-time factor: 0.027583194998979637\n",
      " > Text splitted to sentences.\n",
      "['In this case, the light scatters in all directions, but it appears more red and orange because these colors have longer wavelengths and are scattered less than blue and violet light.']\n"
     ]
    },
    {
     "name": "stderr",
     "output_type": "stream",
     "text": [
      "WARNING:langchain_core.callbacks.manager:Error in AudioPlaybackCallback.on_llm_new_token callback: IndexError('string index out of range')\n",
      "WARNING:langchain_core.callbacks.manager:Error in AudioPlaybackCallback.on_llm_new_token callback: IndexError('string index out of range')\n"
     ]
    },
    {
     "name": "stdout",
     "output_type": "stream",
     "text": [
      " > Processing time: 0.20679450035095215\n",
      " > Real-time factor: 0.026503177791886535\n",
      " In this case, the light scatters in all directions, but it appears more red and orange because these colors have longer wavelengths and are scattered less than blue and violet light.\n",
      " > Text splitted to sentences.\n",
      "[\"It's also worth noting that the color of the sky can be affected by other factors, such as pollution, dust, and smoke, which can scatter light in different ways and change the appearance of the sky.\"]\n",
      " > Processing time: 0.24992728233337402\n",
      " > Real-time factor: 0.028064127431408868\n",
      " > Text splitted to sentences.\n",
      "[\"It's also worth noting that the color of the sky can be affected by other factors, such as pollution, dust, and smoke, which can scatter light in different ways and change the appearance of the sky.\"]\n",
      " > Processing time: 0.2117013931274414\n",
      " > Real-time factor: 0.023865111035072002\n",
      "\n",
      "\n",
      "It's also worth noting that the color of the sky can be affected by other factors, such as pollution, dust, and smoke, which can scatter light in different ways and change the appearance of the sky.\n",
      " > Text splitted to sentences.\n",
      "['However, under normal conditions, the blue color of the sky is due to Rayleigh scattering.']\n",
      " > Processing time: 0.15485310554504395\n",
      " > Real-time factor: 0.03704338414845751\n",
      " > Text splitted to sentences.\n",
      "['However, under normal conditions, the blue color of the sky is due to Rayleigh scattering.']\n"
     ]
    },
    {
     "name": "stderr",
     "output_type": "stream",
     "text": [
      "WARNING:langchain_core.callbacks.manager:Error in AudioPlaybackCallback.on_llm_new_token callback: IndexError('string index out of range')\n"
     ]
    },
    {
     "name": "stdout",
     "output_type": "stream",
     "text": [
      " > Processing time: 0.1595158576965332\n",
      " > Real-time factor: 0.03624613213322916\n",
      " However, under normal conditions, the blue color of the sky is due to Rayleigh scattering.\n"
     ]
    },
    {
     "name": "stderr",
     "output_type": "stream",
     "text": [
      "/home/ismail/envs/hym/lib/python3.10/site-packages/transformers/pipelines/base.py:1101: UserWarning: You seem to be using the pipelines sequentially on GPU. In order to maximize efficiency please use a dataset\n",
      "  warnings.warn(\n",
      "WARNING:langchain_core.callbacks.manager:Error in AudioPlaybackCallback.on_llm_new_token callback: IndexError('string index out of range')\n"
     ]
    },
    {
     "name": "stdout",
     "output_type": "stream",
     "text": [
      " > Text splitted to sentences.\n",
      "['There are many new and exciting developments under the sun, and here are a few examples:']\n"
     ]
    },
    {
     "name": "stderr",
     "output_type": "stream",
     "text": [
      "WARNING:langchain_core.callbacks.manager:Error in AudioPlaybackCallback.on_llm_new_token callback: IndexError('string index out of range')\n",
      "WARNING:langchain_core.callbacks.manager:Error in AudioPlaybackCallback.on_llm_new_token callback: IndexError('string index out of range')\n"
     ]
    },
    {
     "name": "stdout",
     "output_type": "stream",
     "text": [
      " > Processing time: 0.2076575756072998\n",
      " > Real-time factor: 0.04872775351333391\n",
      " > Text splitted to sentences.\n",
      "['There are many new and exciting developments under the sun, and here are a few examples:']\n",
      " > Processing time: 0.18135499954223633\n",
      " > Real-time factor: 0.043262914790400626\n",
      "\n",
      "There are many new and exciting developments under the sun, and here are a few examples:\n",
      " > Text splitted to sentences.\n",
      "['1.']\n",
      " > Processing time: 0.1886143684387207\n",
      " > Real-time factor: 0.18876846514496148\n",
      " > Text splitted to sentences.\n",
      "['1.']\n",
      " > Processing time: 0.25141239166259766\n",
      " > Real-time factor: 0.25760423959852596\n",
      "\n",
      "\n",
      "1.\n",
      " > Text splitted to sentences.\n",
      "['Space Exploration:']\n",
      " > Processing time: 0.21174073219299316\n",
      " > Real-time factor: 0.1265966145568194\n",
      " > Text splitted to sentences.\n",
      "['Space Exploration:']\n",
      " > Processing time: 0.2980656623840332\n",
      " > Real-time factor: 0.18595370800045077\n",
      " Space Exploration:\n",
      " > Text splitted to sentences.\n",
      "['With the ongoing space race between nations, there have been many advancements in space exploration technology.']\n",
      " > Processing time: 0.22824501991271973\n",
      " > Real-time factor: 0.04397457962634096\n",
      " > Text splitted to sentences.\n",
      "['With the ongoing space race between nations, there have been many advancements in space exploration technology.']\n",
      " > Processing time: 0.1770002841949463\n",
      " > Real-time factor: 0.034409439505735696\n",
      " With the ongoing space race between nations, there have been many advancements in space exploration technology.\n",
      " > Text splitted to sentences.\n",
      "['Private companies like SpaceX and Blue Origin are leading the charge in developing reusable rockets for space travel, while NASA continues to push the boundaries of space exploration with its Artemis program.']\n",
      " > Processing time: 0.23438453674316406\n",
      " > Real-time factor: 0.023665557161636236\n",
      " > Text splitted to sentences.\n",
      "['Private companies like SpaceX and Blue Origin are leading the charge in developing reusable rockets for space travel, while NASA continues to push the boundaries of space exploration with its Artemis program.']\n",
      " > Processing time: 0.19692492485046387\n",
      " > Real-time factor: 0.020263358624620736\n"
     ]
    },
    {
     "name": "stderr",
     "output_type": "stream",
     "text": [
      "WARNING:langchain_core.callbacks.manager:Error in AudioPlaybackCallback.on_llm_new_token callback: IndexError('string index out of range')\n"
     ]
    },
    {
     "name": "stdout",
     "output_type": "stream",
     "text": [
      " Private companies like SpaceX and Blue Origin are leading the charge in developing reusable rockets for space travel, while NASA continues to push the boundaries of space exploration with its Artemis program.\n",
      " > Text splitted to sentences.\n",
      "['2.']\n",
      " > Processing time: 0.20374655723571777\n",
      " > Real-time factor: 0.20631023085266242\n",
      " > Text splitted to sentences.\n",
      "['2.']\n",
      " > Processing time: 0.15029454231262207\n",
      " > Real-time factor: 0.1658323988187208\n",
      "\n",
      "2.\n",
      " > Text splitted to sentences.\n",
      "['Artificial Intelligence:']\n",
      " > Processing time: 0.21162843704223633\n",
      " > Real-time factor: 0.10781901656149055\n",
      " > Text splitted to sentences.\n",
      "['Artificial Intelligence:']\n",
      " > Processing time: 0.14447355270385742\n",
      " > Real-time factor: 0.07973673000400622\n",
      " Artificial Intelligence:\n",
      " > Text splitted to sentences.\n",
      "['AI has made tremendous progress in recent years, with applications in various fields such as healthcare, finance, and transportation.']\n",
      " > Processing time: 0.20152735710144043\n",
      " > Real-time factor: 0.028221714155616563\n",
      " > Text splitted to sentences.\n",
      "['AI has made tremendous progress in recent years, with applications in various fields such as healthcare, finance, and transportation.']\n",
      " > Processing time: 0.20898151397705078\n",
      " > Real-time factor: 0.02936106116317903\n",
      " AI has made tremendous progress in recent years, with applications in various fields such as healthcare, finance, and transportation.\n",
      " > Text splitted to sentences.\n",
      "['Machine learning algorithms are becoming more sophisticated, enabling self-driving cars, personalized medicine, and efficient supply chain management.']\n",
      " > Processing time: 0.21712088584899902\n",
      " > Real-time factor: 0.028991349753962965\n",
      " > Text splitted to sentences.\n",
      "['Machine learning algorithms are becoming more sophisticated, enabling self-driving cars, personalized medicine, and efficient supply chain management.']\n",
      " > Processing time: 0.17580509185791016\n",
      " > Real-time factor: 0.02347460441979289\n"
     ]
    },
    {
     "name": "stderr",
     "output_type": "stream",
     "text": [
      "WARNING:langchain_core.callbacks.manager:Error in AudioPlaybackCallback.on_llm_new_token callback: IndexError('string index out of range')\n"
     ]
    },
    {
     "name": "stdout",
     "output_type": "stream",
     "text": [
      " Machine learning algorithms are becoming more sophisticated, enabling self-driving cars, personalized medicine, and efficient supply chain management.\n",
      " > Text splitted to sentences.\n",
      "['3.']\n",
      " > Processing time: 0.18009114265441895\n",
      " > Real-time factor: 0.17034187094757797\n",
      " > Text splitted to sentences.\n",
      "['3.']\n",
      " > Processing time: 0.0647573471069336\n",
      " > Real-time factor: 0.06557216677571114\n",
      "\n",
      "3.\n",
      " > Text splitted to sentences.\n",
      "['Quantum Computing:']\n",
      " > Processing time: 0.17195558547973633\n",
      " > Real-time factor: 0.11842893115405378\n",
      " > Text splitted to sentences.\n",
      "['Quantum Computing:']\n",
      " > Processing time: 0.21113181114196777\n",
      " > Real-time factor: 0.1489841409267918\n",
      " Quantum Computing:\n",
      " > Text splitted to sentences.\n",
      "['Quantum computing is a rapidly growing field that has the potential to revolutionize computing as we know it.']\n",
      " > Processing time: 0.21406006813049316\n",
      " > Real-time factor: 0.043376199293094525\n",
      " > Text splitted to sentences.\n",
      "['Quantum computing is a rapidly growing field that has the potential to revolutionize computing as we know it.']\n",
      " > Processing time: 0.17879176139831543\n",
      " > Real-time factor: 0.036573756297618144\n",
      " Quantum computing is a rapidly growing field that has the potential to revolutionize computing as we know it.\n",
      " > Text splitted to sentences.\n",
      "['These computers can perform certain calculations much faster than classical computers, which could lead to breakthroughs in fields such as cryptography, drug discovery, and climate modeling.']\n",
      " > Processing time: 0.19013667106628418\n",
      " > Real-time factor: 0.022189186198088143\n",
      " > Text splitted to sentences.\n",
      "['These computers can perform certain calculations much faster than classical computers, which could lead to breakthroughs in fields such as cryptography, drug discovery, and climate modeling.']\n",
      " > Processing time: 0.19875407218933105\n",
      " > Real-time factor: 0.02285423076645155\n"
     ]
    },
    {
     "name": "stderr",
     "output_type": "stream",
     "text": [
      "WARNING:langchain_core.callbacks.manager:Error in AudioPlaybackCallback.on_llm_new_token callback: IndexError('string index out of range')\n"
     ]
    },
    {
     "name": "stdout",
     "output_type": "stream",
     "text": [
      " These computers can perform certain calculations much faster than classical computers, which could lead to breakthroughs in fields such as cryptography, drug discovery, and climate modeling.\n",
      " > Text splitted to sentences.\n",
      "['4.']\n",
      " > Processing time: 0.11007142066955566\n",
      " > Real-time factor: 0.11278228744255123\n",
      " > Text splitted to sentences.\n",
      "['4.']\n"
     ]
    },
    {
     "name": "stderr",
     "output_type": "stream",
     "text": [
      "WARNING:langchain_core.callbacks.manager:Error in AudioPlaybackCallback.on_llm_new_token callback: IndexError('string index out of range')\n"
     ]
    },
    {
     "name": "stdout",
     "output_type": "stream",
     "text": [
      " > Processing time: 0.19362854957580566\n",
      " > Real-time factor: 0.20323255512883256\n",
      "\n",
      "4.\n",
      " > Text splitted to sentences.\n",
      "['5G Networks:']\n",
      " > Processing time: 0.10798883438110352\n",
      " > Real-time factor: 0.0743738692561011\n",
      " > Text splitted to sentences.\n",
      "['5G Networks:']\n",
      " > Processing time: 0.20234251022338867\n",
      " > Real-time factor: 0.13825149821596802\n",
      " 5G Networks:\n",
      " > Text splitted to sentences.\n",
      "['The rollout of 5G networks is underway, providing faster data transfer speeds and lower latency compared to previous generations of wireless technology.']\n",
      " > Processing time: 0.22819733619689941\n",
      " > Real-time factor: 0.03185297821800385\n",
      " > Text splitted to sentences.\n",
      "['The rollout of 5G networks is underway, providing faster data transfer speeds and lower latency compared to previous generations of wireless technology.']\n",
      " > Processing time: 0.18493175506591797\n",
      " > Real-time factor: 0.024655032886738724\n",
      " The rollout of 5G networks is underway, providing faster data transfer speeds and lower latency compared to previous generations of wireless technology.\n",
      " > Text splitted to sentences.\n",
      "['This will enable new use cases such as remote healthcare services, autonomous vehicles, and smart cities.']\n"
     ]
    },
    {
     "name": "stderr",
     "output_type": "stream",
     "text": [
      "WARNING:langchain_core.callbacks.manager:Error in AudioPlaybackCallback.on_llm_new_token callback: IndexError('string index out of range')\n"
     ]
    },
    {
     "name": "stdout",
     "output_type": "stream",
     "text": [
      " > Processing time: 0.23807001113891602\n",
      " > Real-time factor: 0.04244924752242446\n",
      " > Text splitted to sentences.\n",
      "['This will enable new use cases such as remote healthcare services, autonomous vehicles, and smart cities.']\n",
      " > Processing time: 0.1405503749847412\n",
      " > Real-time factor: 0.0250609374467391\n",
      " This will enable new use cases such as remote healthcare services, autonomous vehicles, and smart cities.\n",
      " > Text splitted to sentences.\n",
      "['5.']\n",
      " > Processing time: 0.21460914611816406\n",
      " > Real-time factor: 0.19651709600936537\n",
      " > Text splitted to sentences.\n",
      "['5.']\n",
      " > Processing time: 0.3343501091003418\n",
      " > Real-time factor: 0.31976144629001285\n",
      "\n",
      "5.\n",
      " > Text splitted to sentences.\n",
      "['Electric Vehicles:']\n",
      " > Processing time: 0.2883138656616211\n",
      " > Real-time factor: 0.20179408131788806\n",
      " > Text splitted to sentences.\n",
      "['Electric Vehicles:']\n",
      " > Processing time: 0.23966455459594727\n",
      " > Real-time factor: 0.15398028638813044\n",
      " Electric Vehicles:\n",
      " > Text splitted to sentences.\n",
      "['Electric vehicles (EVs) are becoming increasingly popular, with many countries investing heavily in EV infrastructure.']\n",
      " > Processing time: 0.29346513748168945\n",
      " > Real-time factor: 0.05064892205284324\n",
      " > Text splitted to sentences.\n",
      "['Electric vehicles (EVs) are becoming increasingly popular, with many countries investing heavily in EV infrastructure.']\n",
      " > Processing time: 0.2983880043029785\n",
      " > Real-time factor: 0.05160195362404847\n",
      " Electric vehicles (EVs) are becoming increasingly popular, with many countries investing heavily in EV infrastructure.\n",
      " > Text splitted to sentences.\n",
      "['As battery technology improves, EVs are set to become even more viable alternatives to traditional gasoline-powered vehicles.']\n",
      " > Processing time: 0.22954988479614258\n",
      " > Real-time factor: 0.036746246368298756\n",
      " > Text splitted to sentences.\n",
      "['As battery technology improves, EVs are set to become even more viable alternatives to traditional gasoline-powered vehicles.']\n"
     ]
    },
    {
     "name": "stderr",
     "output_type": "stream",
     "text": [
      "WARNING:langchain_core.callbacks.manager:Error in AudioPlaybackCallback.on_llm_new_token callback: IndexError('string index out of range')\n"
     ]
    },
    {
     "name": "stdout",
     "output_type": "stream",
     "text": [
      " > Processing time: 0.2247776985168457\n",
      " > Real-time factor: 0.03722770890139743\n",
      " As battery technology improves, EVs are set to become even more viable alternatives to traditional gasoline-powered vehicles.\n",
      " > Text splitted to sentences.\n",
      "['6.']\n",
      " > Processing time: 0.12488913536071777\n",
      " > Real-time factor: 0.1143606908099596\n",
      " > Text splitted to sentences.\n",
      "['6.']\n",
      " > Processing time: 0.17551350593566895\n",
      " > Real-time factor: 0.15260539455368693\n",
      "\n",
      "6.\n",
      " > Text splitted to sentences.\n",
      "['Virtual and Augmented Reality:']\n",
      " > Processing time: 0.21667838096618652\n",
      " > Real-time factor: 0.11171339086009197\n",
      " > Text splitted to sentences.\n",
      "['Virtual and Augmented Reality:']\n",
      " > Processing time: 0.2069416046142578\n",
      " > Real-time factor: 0.09844369998585573\n",
      " Virtual and Augmented Reality:\n",
      " > Text splitted to sentences.\n",
      "['VR and AR technologies are advancing rapidly, enabling new forms of entertainment, education, and communication.']\n",
      " > Processing time: 0.2578706741333008\n",
      " > Real-time factor: 0.04198204640164857\n",
      " > Text splitted to sentences.\n",
      "['VR and AR technologies are advancing rapidly, enabling new forms of entertainment, education, and communication.']\n",
      " > Processing time: 0.23552322387695312\n",
      " > Real-time factor: 0.04106014458006654\n",
      " VR and AR technologies are advancing rapidly, enabling new forms of entertainment, education, and communication.\n",
      " > Text splitted to sentences.\n",
      "['From gaming to remote work, these technologies have the potential to transform various aspects of our lives.']\n",
      " > Processing time: 0.20120787620544434\n",
      " > Real-time factor: 0.03702625242297076\n",
      " > Text splitted to sentences.\n",
      "['From gaming to remote work, these technologies have the potential to transform various aspects of our lives.']\n",
      " > Processing time: 0.19412565231323242\n",
      " > Real-time factor: 0.03634416717758096\n"
     ]
    },
    {
     "name": "stderr",
     "output_type": "stream",
     "text": [
      "WARNING:langchain_core.callbacks.manager:Error in AudioPlaybackCallback.on_llm_new_token callback: IndexError('string index out of range')\n"
     ]
    },
    {
     "name": "stdout",
     "output_type": "stream",
     "text": [
      " From gaming to remote work, these technologies have the potential to transform various aspects of our lives.\n",
      " > Text splitted to sentences.\n",
      "['7.']\n",
      " > Processing time: 0.24582338333129883\n",
      " > Real-time factor: 0.22273198563671678\n",
      " > Text splitted to sentences.\n",
      "['7.']\n",
      " > Processing time: 0.22838139533996582\n",
      " > Real-time factor: 0.20477430738639585\n",
      "\n",
      "7.\n",
      " > Text splitted to sentences.\n",
      "['Blockchain:']\n",
      " > Processing time: 0.24328064918518066\n",
      " > Real-time factor: 0.20941358192275272\n",
      " > Text splitted to sentences.\n",
      "['Blockchain:']\n",
      " > Processing time: 0.21509075164794922\n",
      " > Real-time factor: 0.1730425815031115\n",
      " Blockchain:\n",
      " > Text splitted to sentences.\n",
      "['The blockchain technology behind cryptocurrencies like Bitcoin has broader applications beyond digital currency.']\n",
      " > Processing time: 0.17702221870422363\n",
      " > Real-time factor: 0.03441370364674259\n",
      " > Text splitted to sentences.\n",
      "['The blockchain technology behind cryptocurrencies like Bitcoin has broader applications beyond digital currency.']\n",
      " > Processing time: 0.24593782424926758\n",
      " > Real-time factor: 0.0485786246300017\n",
      " The blockchain technology behind cryptocurrencies like Bitcoin has broader applications beyond digital currency.\n",
      " > Text splitted to sentences.\n",
      "['It can securely store and transfer data, enabling new use cases such as decentralized finance (DeFi) and non-fungible tokens (NFTs).']\n",
      " > Processing time: 0.2716367244720459\n",
      " > Real-time factor: 0.040058786614557335\n",
      " > Text splitted to sentences.\n",
      "['It can securely store and transfer data, enabling new use cases such as decentralized finance (DeFi) and non-fungible tokens (NFTs).']\n"
     ]
    },
    {
     "name": "stderr",
     "output_type": "stream",
     "text": [
      "WARNING:langchain_core.callbacks.manager:Error in AudioPlaybackCallback.on_llm_new_token callback: IndexError('string index out of range')\n"
     ]
    },
    {
     "name": "stdout",
     "output_type": "stream",
     "text": [
      " > Processing time: 0.2314145565032959\n",
      " > Real-time factor: 0.03527465829898293\n",
      " It can securely store and transfer data, enabling new use cases such as decentralized finance (DeFi) and non-fungible tokens (NFTs).\n",
      " > Text splitted to sentences.\n",
      "['8.']\n",
      " > Processing time: 0.14329004287719727\n",
      " > Real-time factor: 0.1450930127407329\n",
      " > Text splitted to sentences.\n",
      "['8.']\n",
      " > Processing time: 0.22840332984924316\n",
      " > Real-time factor: 0.22089006241999173\n",
      "\n",
      "8.\n",
      " > Text splitted to sentences.\n",
      "['Synthetic Biology:']\n",
      " > Processing time: 0.22388648986816406\n",
      " > Real-time factor: 0.14713570283717864\n",
      " > Text splitted to sentences.\n",
      "['Synthetic Biology:']\n",
      " > Processing time: 0.20339536666870117\n",
      " > Real-time factor: 0.12507998201263\n",
      " Synthetic Biology:\n",
      " > Text splitted to sentences.\n",
      "['This field involves the design and construction of new biological systems, such as microbes that can produce biofuels or clean up environmental pollutants.']\n",
      " > Processing time: 0.19318699836730957\n",
      " > Real-time factor: 0.025095280622579742\n",
      " > Text splitted to sentences.\n",
      "['This field involves the design and construction of new biological systems, such as microbes that can produce biofuels or clean up environmental pollutants.']\n",
      " > Processing time: 0.1847858428955078\n",
      " > Real-time factor: 0.023824304400820628\n",
      " This field involves the design and construction of new biological systems, such as microbes that can produce biofuels or clean up environmental pollutants.\n",
      " > Text splitted to sentences.\n",
      "['Synthetic biology has the potential to revolutionize various industries, from agriculture to pharmaceuticals.']\n"
     ]
    },
    {
     "name": "stderr",
     "output_type": "stream",
     "text": [
      "WARNING:langchain_core.callbacks.manager:Error in AudioPlaybackCallback.on_llm_new_token callback: IndexError('string index out of range')\n"
     ]
    },
    {
     "name": "stdout",
     "output_type": "stream",
     "text": [
      " > Processing time: 0.19899535179138184\n",
      " > Real-time factor: 0.0360795249555977\n",
      " > Text splitted to sentences.\n",
      "['Synthetic biology has the potential to revolutionize various industries, from agriculture to pharmaceuticals.']\n",
      " > Processing time: 0.1881577968597412\n",
      " > Real-time factor: 0.03341128254056576\n",
      " Synthetic biology has the potential to revolutionize various industries, from agriculture to pharmaceuticals.\n",
      " > Text splitted to sentences.\n",
      "['9.']\n",
      " > Processing time: 0.13103246688842773\n",
      " > Real-time factor: 0.13113951955745423\n",
      " > Text splitted to sentences.\n",
      "['9.']\n",
      " > Processing time: 0.1121530532836914\n",
      " > Real-time factor: 0.1122446815951977\n",
      "\n",
      "9.\n",
      " > Text splitted to sentences.\n",
      "['Robotics:']\n",
      " > Processing time: 0.1190803050994873\n",
      " > Real-time factor: 0.1035378835742782\n",
      " > Text splitted to sentences.\n",
      "['Robotics:']\n",
      " > Processing time: 0.1753709316253662\n",
      " > Real-time factor: 0.13360036768723482\n",
      " Robotics:\n",
      " > Text splitted to sentences.\n",
      "['Advances in robotics are enabling the development of more sophisticated robots that can perform complex tasks such as assembly, maintenance, and even surgery.']\n",
      " > Processing time: 0.20523858070373535\n",
      " > Real-time factor: 0.025287833619341553\n",
      " > Text splitted to sentences.\n",
      "['Advances in robotics are enabling the development of more sophisticated robots that can perform complex tasks such as assembly, maintenance, and even surgery.']\n",
      " > Processing time: 0.20035362243652344\n",
      " > Real-time factor: 0.024441208809447983\n",
      " Advances in robotics are enabling the development of more sophisticated robots that can perform complex tasks such as assembly, maintenance, and even surgery.\n",
      " > Text splitted to sentences.\n",
      "['Robots are also being used in logistics and transportation, improving efficiency and reducing costs.']\n",
      " > Processing time: 0.19986820220947266\n",
      " > Real-time factor: 0.037830430733406056\n",
      " > Text splitted to sentences.\n",
      "['Robots are also being used in logistics and transportation, improving efficiency and reducing costs.']\n"
     ]
    },
    {
     "name": "stderr",
     "output_type": "stream",
     "text": [
      "WARNING:langchain_core.callbacks.manager:Error in AudioPlaybackCallback.on_llm_new_token callback: IndexError('string index out of range')\n"
     ]
    },
    {
     "name": "stdout",
     "output_type": "stream",
     "text": [
      " > Processing time: 0.1973130702972412\n",
      " > Real-time factor: 0.036387270842149814\n",
      " Robots are also being used in logistics and transportation, improving efficiency and reducing costs.\n",
      " > Text splitted to sentences.\n",
      "['10.']\n",
      " > Processing time: 0.19170331954956055\n",
      " > Real-time factor: 0.18965623636341575\n",
      " > Text splitted to sentences.\n",
      "['10.']\n",
      " > Processing time: 0.17923474311828613\n",
      " > Real-time factor: 0.18585995512406928\n",
      "\n",
      "10.\n",
      " > Text splitted to sentences.\n",
      "['Nanotechnology:']\n",
      " > Processing time: 0.11943244934082031\n",
      " > Real-time factor: 0.08427692997840143\n",
      " > Text splitted to sentences.\n",
      "['Nanotechnology:']\n",
      " > Processing time: 0.18063855171203613\n",
      " > Real-time factor: 0.13178533831559014\n",
      " Nanotechnology:\n",
      " > Text splitted to sentences.\n",
      "['Researchers are making breakthroughs in nanotechnology, enabling the development of new materials with unique properties.']\n",
      " > Processing time: 0.19725942611694336\n",
      " > Real-time factor: 0.03509982525725146\n",
      " > Text splitted to sentences.\n",
      "['Researchers are making breakthroughs in nanotechnology, enabling the development of new materials with unique properties.']\n",
      " > Processing time: 0.13353490829467773\n",
      " > Real-time factor: 0.023760851580839605\n",
      " Researchers are making breakthroughs in nanotechnology, enabling the development of new materials with unique properties.\n",
      " > Text splitted to sentences.\n",
      "['These materials have potential applications in fields such as medicine, energy, and electronics.']\n",
      " > Processing time: 0.20920586585998535\n",
      " > Real-time factor: 0.04057872398146267\n",
      " > Text splitted to sentences.\n",
      "['These materials have potential applications in fields such as medicine, energy, and electronics.']\n",
      " > Processing time: 0.1999678611755371\n",
      " > Real-time factor: 0.0382697831804662\n"
     ]
    },
    {
     "name": "stderr",
     "output_type": "stream",
     "text": [
      "WARNING:langchain_core.callbacks.manager:Error in AudioPlaybackCallback.on_llm_new_token callback: IndexError('string index out of range')\n",
      "WARNING:langchain_core.callbacks.manager:Error in AudioPlaybackCallback.on_llm_new_token callback: IndexError('string index out of range')\n"
     ]
    },
    {
     "name": "stdout",
     "output_type": "stream",
     "text": [
      " These materials have potential applications in fields such as medicine, energy, and electronics.\n",
      " > Text splitted to sentences.\n",
      "['These are just a few examples of the exciting developments underway in various fields.']\n",
      " > Processing time: 0.212266206741333\n",
      " > Real-time factor: 0.053293744974567236\n",
      " > Text splitted to sentences.\n",
      "['These are just a few examples of the exciting developments underway in various fields.']\n",
      " > Processing time: 0.19959306716918945\n",
      " > Real-time factor: 0.0489699476041551\n",
      "\n",
      "\n",
      "These are just a few examples of the exciting developments underway in various fields.\n",
      " > Text splitted to sentences.\n",
      "['As technology continues to evolve at an unprecedented pace, we can expect even more innovative solutions to emerge in the future.']\n",
      " > Processing time: 0.21941041946411133\n",
      " > Real-time factor: 0.03326823460490466\n",
      " > Text splitted to sentences.\n",
      "['As technology continues to evolve at an unprecedented pace, we can expect even more innovative solutions to emerge in the future.']\n"
     ]
    },
    {
     "name": "stderr",
     "output_type": "stream",
     "text": [
      "WARNING:langchain_core.callbacks.manager:Error in AudioPlaybackCallback.on_llm_new_token callback: IndexError('string index out of range')\n"
     ]
    },
    {
     "name": "stdout",
     "output_type": "stream",
     "text": [
      " > Processing time: 0.22778868675231934\n",
      " > Real-time factor: 0.0347835217651568\n",
      " As technology continues to evolve at an unprecedented pace, we can expect even more innovative solutions to emerge in the future.\n"
     ]
    }
   ],
   "source": [
    "def transcribe_streaming(stream, new_chunk):\n",
    "    sr, y = new_chunk\n",
    "    y = y.astype(np.float32)\n",
    "    y /= np.max(np.abs(y))\n",
    "\n",
    "    if stream is not None:\n",
    "        stream = np.concatenate([stream, y])\n",
    "    else:\n",
    "        stream = y\n",
    "\n",
    "    transcribed_stream = asr_pipe({\"sampling_rate\": sr, \"raw\": stream})[\"text\"]\n",
    "    return stream, transcribed_stream\n",
    "\n",
    "def answer_questions(stream):\n",
    "    if stream.strip().endswith('?'):\n",
    "        llm(stream)\n",
    "    else:\n",
    "        llm(\"Say: Sorry, I can't help you with that\")\n",
    "\n",
    "with gr.Blocks() as demo:\n",
    "    textbox = gr.Textbox()\n",
    "    mic_transcribe = gr.Interface(\n",
    "        title='My Audio Transcription App Powered by Distill Whisper',\n",
    "        description=\"Start recording\",\n",
    "        fn=transcribe_streaming,\n",
    "        inputs=[\"state\", gr.Audio(sources=\"microphone\", streaming=True)],\n",
    "        outputs=[\"state\", textbox],\n",
    "        live=True,\n",
    "    )\n",
    "    button = gr.Button(\"Answer\")\n",
    "    button.click(answer_questions, textbox, None)\n",
    "\n",
    "demo.launch()"
   ]
  },
  {
   "cell_type": "code",
   "execution_count": null,
   "id": "736f627c-b53b-410f-8a6e-03df804b192c",
   "metadata": {},
   "outputs": [],
   "source": []
  }
 ],
 "metadata": {
  "kernelspec": {
   "display_name": "Python 3 (ipykernel)",
   "language": "python",
   "name": "python3"
  },
  "language_info": {
   "codemirror_mode": {
    "name": "ipython",
    "version": 3
   },
   "file_extension": ".py",
   "mimetype": "text/x-python",
   "name": "python",
   "nbconvert_exporter": "python",
   "pygments_lexer": "ipython3",
   "version": "3.10.12"
  }
 },
 "nbformat": 4,
 "nbformat_minor": 5
}
